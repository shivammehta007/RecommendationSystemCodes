{
  "nbformat": 4,
  "nbformat_minor": 0,
  "metadata": {
    "colab": {
      "name": "Solution_FunkSVD.ipynb",
      "provenance": []
    },
    "kernelspec": {
      "name": "python3",
      "display_name": "Python 3"
    },
    "accelerator": "GPU"
  },
  "cells": [
    {
      "cell_type": "code",
      "metadata": {
        "id": "F2JtFJtFn5bu",
        "colab_type": "code",
        "colab": {
          "base_uri": "https://localhost:8080/",
          "height": 34
        },
        "outputId": "a956c683-5dbb-418e-fb23-e91280d85d4b"
      },
      "source": [
        "from google.colab import drive\n",
        "drive.mount('/content/drive')"
      ],
      "execution_count": 26,
      "outputs": [
        {
          "output_type": "stream",
          "text": [
            "Mounted at /content/drive\n"
          ],
          "name": "stdout"
        }
      ]
    },
    {
      "cell_type": "code",
      "metadata": {
        "id": "MVSyjdwdn_LZ",
        "colab_type": "code",
        "colab": {
          "base_uri": "https://localhost:8080/",
          "height": 408
        },
        "outputId": "8ce12378-a21b-477e-c429-841d96904999"
      },
      "source": [
        "!pip install surprise\n",
        "!pip install git+https://github.com/gbolmier/funk-svd\n",
        "import surprise\n",
        "import numpy as np # linear algebra\n",
        "import pandas as pd # data processing, CSV file I/O (e.g. pd.read_csv)\n",
        "import matplotlib.pyplot as plt\n",
        "import seaborn as sns\n",
        "%matplotlib inline"
      ],
      "execution_count": 17,
      "outputs": [
        {
          "output_type": "stream",
          "text": [
            "Requirement already satisfied: surprise in /usr/local/lib/python3.6/dist-packages (0.1)\n",
            "Requirement already satisfied: scikit-surprise in /usr/local/lib/python3.6/dist-packages (from surprise) (1.1.0)\n",
            "Requirement already satisfied: joblib>=0.11 in /usr/local/lib/python3.6/dist-packages (from scikit-surprise->surprise) (0.14.0)\n",
            "Requirement already satisfied: numpy>=1.11.2 in /usr/local/lib/python3.6/dist-packages (from scikit-surprise->surprise) (1.16.5)\n",
            "Requirement already satisfied: scipy>=1.0.0 in /usr/local/lib/python3.6/dist-packages (from scikit-surprise->surprise) (1.3.1)\n",
            "Requirement already satisfied: six>=1.10.0 in /usr/local/lib/python3.6/dist-packages (from scikit-surprise->surprise) (1.12.0)\n",
            "Collecting git+https://github.com/gbolmier/funk-svd\n",
            "  Cloning https://github.com/gbolmier/funk-svd to /tmp/pip-req-build-0ap_xcya\n",
            "  Running command git clone -q https://github.com/gbolmier/funk-svd /tmp/pip-req-build-0ap_xcya\n",
            "Requirement already satisfied: numba>=0.38.0 in /usr/local/lib/python3.6/dist-packages (from funk-svd==0.0.1.dev1) (0.40.1)\n",
            "Requirement already satisfied: numpy>=1.14.3 in /usr/local/lib/python3.6/dist-packages (from funk-svd==0.0.1.dev1) (1.16.5)\n",
            "Requirement already satisfied: pandas>=0.23.0 in /usr/local/lib/python3.6/dist-packages (from funk-svd==0.0.1.dev1) (0.24.2)\n",
            "Requirement already satisfied: llvmlite>=0.25.0dev0 in /usr/local/lib/python3.6/dist-packages (from numba>=0.38.0->funk-svd==0.0.1.dev1) (0.29.0)\n",
            "Requirement already satisfied: python-dateutil>=2.5.0 in /usr/local/lib/python3.6/dist-packages (from pandas>=0.23.0->funk-svd==0.0.1.dev1) (2.5.3)\n",
            "Requirement already satisfied: pytz>=2011k in /usr/local/lib/python3.6/dist-packages (from pandas>=0.23.0->funk-svd==0.0.1.dev1) (2018.9)\n",
            "Requirement already satisfied: six>=1.5 in /usr/local/lib/python3.6/dist-packages (from python-dateutil>=2.5.0->pandas>=0.23.0->funk-svd==0.0.1.dev1) (1.12.0)\n",
            "Building wheels for collected packages: funk-svd\n",
            "  Building wheel for funk-svd (setup.py) ... \u001b[?25l\u001b[?25hdone\n",
            "  Created wheel for funk-svd: filename=funk_svd-0.0.1.dev1-cp36-none-any.whl size=8039 sha256=2b5aa85147536091ca797ce0fa04bdfc5bb630c8bd49edc5cc4b9f44d9fddeb1\n",
            "  Stored in directory: /tmp/pip-ephem-wheel-cache-3hxlsnnk/wheels/66/f1/cb/e8147525b73388cc0bd5588c915e731ab65aba9a968e3ba455\n",
            "Successfully built funk-svd\n",
            "Installing collected packages: funk-svd\n",
            "Successfully installed funk-svd-0.0.1.dev1\n"
          ],
          "name": "stdout"
        }
      ]
    },
    {
      "cell_type": "code",
      "metadata": {
        "id": "cSyev8QFqhFw",
        "colab_type": "code",
        "colab": {}
      },
      "source": [
        "from funk_svd import SVD\n",
        "from sklearn.metrics import mean_squared_error as RMSE"
      ],
      "execution_count": 0,
      "outputs": []
    },
    {
      "cell_type": "code",
      "metadata": {
        "id": "VnLmgnd8q_CR",
        "colab_type": "code",
        "colab": {
          "base_uri": "https://localhost:8080/",
          "height": 238
        },
        "outputId": "e57a591c-c3c9-441e-f708-1cb354b7730e"
      },
      "source": [
        "from funk_svd.dataset import fetch_ml20m_ratings\n",
        "df = fetch_ml20m_ratings()\n",
        "train = df.sample(frac=0.8, random_state=7)\n",
        "train.head()"
      ],
      "execution_count": 21,
      "outputs": [
        {
          "output_type": "stream",
          "text": [
            "Downloading data...\n",
            "Unzipping data...\n"
          ],
          "name": "stdout"
        },
        {
          "output_type": "execute_result",
          "data": {
            "text/html": [
              "<div>\n",
              "<style scoped>\n",
              "    .dataframe tbody tr th:only-of-type {\n",
              "        vertical-align: middle;\n",
              "    }\n",
              "\n",
              "    .dataframe tbody tr th {\n",
              "        vertical-align: top;\n",
              "    }\n",
              "\n",
              "    .dataframe thead th {\n",
              "        text-align: right;\n",
              "    }\n",
              "</style>\n",
              "<table border=\"1\" class=\"dataframe\">\n",
              "  <thead>\n",
              "    <tr style=\"text-align: right;\">\n",
              "      <th></th>\n",
              "      <th>u_id</th>\n",
              "      <th>i_id</th>\n",
              "      <th>rating</th>\n",
              "      <th>timestamp</th>\n",
              "    </tr>\n",
              "  </thead>\n",
              "  <tbody>\n",
              "    <tr>\n",
              "      <th>4913857</th>\n",
              "      <td>130395</td>\n",
              "      <td>2273</td>\n",
              "      <td>5.0</td>\n",
              "      <td>2000-08-08 17:54:37</td>\n",
              "    </tr>\n",
              "    <tr>\n",
              "      <th>10215290</th>\n",
              "      <td>24051</td>\n",
              "      <td>4621</td>\n",
              "      <td>3.5</td>\n",
              "      <td>2005-02-07 14:46:54</td>\n",
              "    </tr>\n",
              "    <tr>\n",
              "      <th>1471570</th>\n",
              "      <td>106069</td>\n",
              "      <td>39</td>\n",
              "      <td>3.0</td>\n",
              "      <td>1996-11-30 16:12:34</td>\n",
              "    </tr>\n",
              "    <tr>\n",
              "      <th>6901522</th>\n",
              "      <td>76737</td>\n",
              "      <td>4896</td>\n",
              "      <td>4.0</td>\n",
              "      <td>2001-12-10 18:16:51</td>\n",
              "    </tr>\n",
              "    <tr>\n",
              "      <th>16126621</th>\n",
              "      <td>76154</td>\n",
              "      <td>45081</td>\n",
              "      <td>2.0</td>\n",
              "      <td>2009-12-23 02:47:35</td>\n",
              "    </tr>\n",
              "  </tbody>\n",
              "</table>\n",
              "</div>"
            ],
            "text/plain": [
              "            u_id   i_id  rating           timestamp\n",
              "4913857   130395   2273     5.0 2000-08-08 17:54:37\n",
              "10215290   24051   4621     3.5 2005-02-07 14:46:54\n",
              "1471570   106069     39     3.0 1996-11-30 16:12:34\n",
              "6901522    76737   4896     4.0 2001-12-10 18:16:51\n",
              "16126621   76154  45081     2.0 2009-12-23 02:47:35"
            ]
          },
          "metadata": {
            "tags": []
          },
          "execution_count": 21
        }
      ]
    },
    {
      "cell_type": "code",
      "metadata": {
        "id": "0I2vHN2MoO9F",
        "colab_type": "code",
        "colab": {
          "base_uri": "https://localhost:8080/",
          "height": 204
        },
        "outputId": "0b145ea8-88a4-409f-80a0-960a30f24997"
      },
      "source": [
        "training_data = pd.read_csv('drive/My Drive/Homeworks/RecommendedSystem/itmo-rs-autumn2019-track1/train.csv')\n",
        "training_data.head()"
      ],
      "execution_count": 27,
      "outputs": [
        {
          "output_type": "execute_result",
          "data": {
            "text/html": [
              "<div>\n",
              "<style scoped>\n",
              "    .dataframe tbody tr th:only-of-type {\n",
              "        vertical-align: middle;\n",
              "    }\n",
              "\n",
              "    .dataframe tbody tr th {\n",
              "        vertical-align: top;\n",
              "    }\n",
              "\n",
              "    .dataframe thead th {\n",
              "        text-align: right;\n",
              "    }\n",
              "</style>\n",
              "<table border=\"1\" class=\"dataframe\">\n",
              "  <thead>\n",
              "    <tr style=\"text-align: right;\">\n",
              "      <th></th>\n",
              "      <th>id</th>\n",
              "      <th>user_id</th>\n",
              "      <th>item_id</th>\n",
              "      <th>ts</th>\n",
              "      <th>rating</th>\n",
              "    </tr>\n",
              "  </thead>\n",
              "  <tbody>\n",
              "    <tr>\n",
              "      <th>0</th>\n",
              "      <td>0</td>\n",
              "      <td>5072</td>\n",
              "      <td>2390</td>\n",
              "      <td>1462413337</td>\n",
              "      <td>3</td>\n",
              "    </tr>\n",
              "    <tr>\n",
              "      <th>1</th>\n",
              "      <td>1</td>\n",
              "      <td>1641</td>\n",
              "      <td>820</td>\n",
              "      <td>1468236014</td>\n",
              "      <td>3</td>\n",
              "    </tr>\n",
              "    <tr>\n",
              "      <th>2</th>\n",
              "      <td>2</td>\n",
              "      <td>5835</td>\n",
              "      <td>679</td>\n",
              "      <td>1465083622</td>\n",
              "      <td>4</td>\n",
              "    </tr>\n",
              "    <tr>\n",
              "      <th>3</th>\n",
              "      <td>3</td>\n",
              "      <td>4323</td>\n",
              "      <td>3109</td>\n",
              "      <td>1465881772</td>\n",
              "      <td>3</td>\n",
              "    </tr>\n",
              "    <tr>\n",
              "      <th>4</th>\n",
              "      <td>4</td>\n",
              "      <td>1813</td>\n",
              "      <td>965</td>\n",
              "      <td>1474541439</td>\n",
              "      <td>2</td>\n",
              "    </tr>\n",
              "  </tbody>\n",
              "</table>\n",
              "</div>"
            ],
            "text/plain": [
              "   id  user_id  item_id          ts  rating\n",
              "0   0     5072     2390  1462413337       3\n",
              "1   1     1641      820  1468236014       3\n",
              "2   2     5835      679  1465083622       4\n",
              "3   3     4323     3109  1465881772       3\n",
              "4   4     1813      965  1474541439       2"
            ]
          },
          "metadata": {
            "tags": []
          },
          "execution_count": 27
        }
      ]
    },
    {
      "cell_type": "code",
      "metadata": {
        "id": "pfPH9k4ro3jv",
        "colab_type": "code",
        "colab": {
          "base_uri": "https://localhost:8080/",
          "height": 204
        },
        "outputId": "26f8ead3-f8ba-4922-bfae-c127e4bd754e"
      },
      "source": [
        "recommending_matrix = training_data.loc[ : , ['user_id', 'item_id', 'rating' ]].sort_values('user_id')\n",
        "recommending_matrix = recommending_matrix.rename(columns={'user_id' : 'u_id', 'item_id': 'i_id'})\n",
        "recommending_matrix.head()"
      ],
      "execution_count": 29,
      "outputs": [
        {
          "output_type": "execute_result",
          "data": {
            "text/html": [
              "<div>\n",
              "<style scoped>\n",
              "    .dataframe tbody tr th:only-of-type {\n",
              "        vertical-align: middle;\n",
              "    }\n",
              "\n",
              "    .dataframe tbody tr th {\n",
              "        vertical-align: top;\n",
              "    }\n",
              "\n",
              "    .dataframe thead th {\n",
              "        text-align: right;\n",
              "    }\n",
              "</style>\n",
              "<table border=\"1\" class=\"dataframe\">\n",
              "  <thead>\n",
              "    <tr style=\"text-align: right;\">\n",
              "      <th></th>\n",
              "      <th>u_id</th>\n",
              "      <th>i_id</th>\n",
              "      <th>rating</th>\n",
              "    </tr>\n",
              "  </thead>\n",
              "  <tbody>\n",
              "    <tr>\n",
              "      <th>217110</th>\n",
              "      <td>2</td>\n",
              "      <td>1406</td>\n",
              "      <td>1</td>\n",
              "    </tr>\n",
              "    <tr>\n",
              "      <th>698905</th>\n",
              "      <td>2</td>\n",
              "      <td>51</td>\n",
              "      <td>1</td>\n",
              "    </tr>\n",
              "    <tr>\n",
              "      <th>160650</th>\n",
              "      <td>2</td>\n",
              "      <td>2319</td>\n",
              "      <td>5</td>\n",
              "    </tr>\n",
              "    <tr>\n",
              "      <th>773074</th>\n",
              "      <td>2</td>\n",
              "      <td>379</td>\n",
              "      <td>5</td>\n",
              "    </tr>\n",
              "    <tr>\n",
              "      <th>674022</th>\n",
              "      <td>2</td>\n",
              "      <td>2177</td>\n",
              "      <td>1</td>\n",
              "    </tr>\n",
              "  </tbody>\n",
              "</table>\n",
              "</div>"
            ],
            "text/plain": [
              "        u_id  i_id  rating\n",
              "217110     2  1406       1\n",
              "698905     2    51       1\n",
              "160650     2  2319       5\n",
              "773074     2   379       5\n",
              "674022     2  2177       1"
            ]
          },
          "metadata": {
            "tags": []
          },
          "execution_count": 29
        }
      ]
    },
    {
      "cell_type": "code",
      "metadata": {
        "id": "CPUdULyepZFW",
        "colab_type": "code",
        "colab": {}
      },
      "source": [
        "svd = SVD(learning_rate=0.001, regularization=0.005, n_epochs=100, n_factors=15, min_rating=1, max_rating=5)"
      ],
      "execution_count": 0,
      "outputs": []
    },
    {
      "cell_type": "code",
      "metadata": {
        "id": "wHK6MWA5pcFP",
        "colab_type": "code",
        "colab": {
          "base_uri": "https://localhost:8080/",
          "height": 1000
        },
        "outputId": "30914ab9-d610-4e14-bdd1-2c9aba5c5730"
      },
      "source": [
        "svd.fit(X=recommending_matrix, shuffle=False)"
      ],
      "execution_count": 35,
      "outputs": [
        {
          "output_type": "stream",
          "text": [
            "Preprocessing data...\n",
            "\n",
            "Epoch 1/100  | took 0.0 sec\n",
            "Epoch 2/100  | took 0.0 sec\n",
            "Epoch 3/100  | took 0.0 sec\n",
            "Epoch 4/100  | took 0.0 sec\n",
            "Epoch 5/100  | took 0.0 sec\n",
            "Epoch 6/100  | took 0.0 sec\n",
            "Epoch 7/100  | took 0.0 sec\n",
            "Epoch 8/100  | took 0.0 sec\n",
            "Epoch 9/100  | took 0.0 sec\n",
            "Epoch 10/100 | took 0.0 sec\n",
            "Epoch 11/100 | took 0.0 sec\n",
            "Epoch 12/100 | took 0.0 sec\n",
            "Epoch 13/100 | took 0.0 sec\n",
            "Epoch 14/100 | took 0.0 sec\n",
            "Epoch 15/100 | took 0.0 sec\n",
            "Epoch 16/100 | took 0.0 sec\n",
            "Epoch 17/100 | took 0.0 sec\n",
            "Epoch 18/100 | took 0.0 sec\n",
            "Epoch 19/100 | took 0.0 sec\n",
            "Epoch 20/100 | took 0.0 sec\n",
            "Epoch 21/100 | took 0.0 sec\n",
            "Epoch 22/100 | took 0.0 sec\n",
            "Epoch 23/100 | took 0.0 sec\n",
            "Epoch 24/100 | took 0.0 sec\n",
            "Epoch 25/100 | took 0.0 sec\n",
            "Epoch 26/100 | took 0.0 sec\n",
            "Epoch 27/100 | took 0.0 sec\n",
            "Epoch 28/100 | took 0.0 sec\n",
            "Epoch 29/100 | took 0.0 sec\n",
            "Epoch 30/100 | took 0.0 sec\n",
            "Epoch 31/100 | took 0.0 sec\n",
            "Epoch 32/100 | took 0.0 sec\n",
            "Epoch 33/100 | took 0.0 sec\n",
            "Epoch 34/100 | took 0.0 sec\n",
            "Epoch 35/100 | took 0.0 sec\n",
            "Epoch 36/100 | took 0.0 sec\n",
            "Epoch 37/100 | took 0.0 sec\n",
            "Epoch 38/100 | took 0.0 sec\n",
            "Epoch 39/100 | took 0.0 sec\n",
            "Epoch 40/100 | took 0.0 sec\n",
            "Epoch 41/100 | took 0.0 sec\n",
            "Epoch 42/100 | took 0.0 sec\n",
            "Epoch 43/100 | took 0.0 sec\n",
            "Epoch 44/100 | took 0.0 sec\n",
            "Epoch 45/100 | took 0.0 sec\n",
            "Epoch 46/100 | took 0.0 sec\n",
            "Epoch 47/100 | took 0.0 sec\n",
            "Epoch 48/100 | took 0.0 sec\n",
            "Epoch 49/100 | took 0.0 sec\n",
            "Epoch 50/100 | took 0.0 sec\n",
            "Epoch 51/100 | took 0.0 sec\n",
            "Epoch 52/100 | took 0.0 sec\n",
            "Epoch 53/100 | took 0.0 sec\n",
            "Epoch 54/100 | took 0.0 sec\n",
            "Epoch 55/100 | took 0.0 sec\n",
            "Epoch 56/100 | took 0.0 sec\n",
            "Epoch 57/100 | took 0.0 sec\n",
            "Epoch 58/100 | took 0.0 sec\n",
            "Epoch 59/100 | took 0.0 sec\n",
            "Epoch 60/100 | took 0.0 sec\n",
            "Epoch 61/100 | took 0.0 sec\n",
            "Epoch 62/100 | took 0.0 sec\n",
            "Epoch 63/100 | took 0.0 sec\n",
            "Epoch 64/100 | took 0.0 sec\n",
            "Epoch 65/100 | took 0.0 sec\n",
            "Epoch 66/100 | took 0.0 sec\n",
            "Epoch 67/100 | took 0.0 sec\n",
            "Epoch 68/100 | took 0.0 sec\n",
            "Epoch 69/100 | took 0.0 sec\n",
            "Epoch 70/100 | took 0.0 sec\n",
            "Epoch 71/100 | took 0.0 sec\n",
            "Epoch 72/100 | took 0.0 sec\n",
            "Epoch 73/100 | took 0.0 sec\n",
            "Epoch 74/100 | took 0.0 sec\n",
            "Epoch 75/100 | took 0.0 sec\n",
            "Epoch 76/100 | took 0.0 sec\n",
            "Epoch 77/100 | took 0.0 sec\n",
            "Epoch 78/100 | took 0.0 sec\n",
            "Epoch 79/100 | took 0.0 sec\n",
            "Epoch 80/100 | took 0.0 sec\n",
            "Epoch 81/100 | took 0.0 sec\n",
            "Epoch 82/100 | took 0.0 sec\n",
            "Epoch 83/100 | took 0.0 sec\n",
            "Epoch 84/100 | took 0.0 sec\n",
            "Epoch 85/100 | took 0.0 sec\n",
            "Epoch 86/100 | took 0.0 sec\n",
            "Epoch 87/100 | took 0.0 sec\n",
            "Epoch 88/100 | took 0.0 sec\n",
            "Epoch 89/100 | took 0.0 sec\n",
            "Epoch 90/100 | took 0.0 sec\n",
            "Epoch 91/100 | took 0.0 sec\n",
            "Epoch 92/100 | took 0.0 sec\n",
            "Epoch 93/100 | took 0.0 sec\n",
            "Epoch 94/100 | took 0.0 sec\n",
            "Epoch 95/100 | took 0.0 sec\n",
            "Epoch 96/100 | took 0.0 sec\n",
            "Epoch 97/100 | took 0.0 sec\n",
            "Epoch 98/100 | took 0.0 sec\n",
            "Epoch 99/100 | took 0.0 sec\n",
            "Epoch 100/100 | took 0.0 sec\n",
            "\n",
            "Training took 4 sec\n"
          ],
          "name": "stdout"
        },
        {
          "output_type": "execute_result",
          "data": {
            "text/plain": [
              "<funk_svd.svd.SVD at 0x7fa6aab28438>"
            ]
          },
          "metadata": {
            "tags": []
          },
          "execution_count": 35
        }
      ]
    },
    {
      "cell_type": "code",
      "metadata": {
        "id": "oNfDhNtkpels",
        "colab_type": "code",
        "colab": {}
      },
      "source": [
        "testing_data = pd.read_csv('drive/My Drive/Homeworks/RecommendedSystem/itmo-rs-autumn2019-track1/test_items.csv')\n",
        "testing_data = testing_data.rename(columns={'user_id' : 'u_id', 'item_id': 'i_id'})\n"
      ],
      "execution_count": 0,
      "outputs": []
    },
    {
      "cell_type": "code",
      "metadata": {
        "id": "rXvWTpKDsxKr",
        "colab_type": "code",
        "colab": {
          "base_uri": "https://localhost:8080/",
          "height": 204
        },
        "outputId": "96c25070-1c11-47a2-923e-0360dbf66b9f"
      },
      "source": [
        "testing_data.head()\n"
      ],
      "execution_count": 38,
      "outputs": [
        {
          "output_type": "execute_result",
          "data": {
            "text/html": [
              "<div>\n",
              "<style scoped>\n",
              "    .dataframe tbody tr th:only-of-type {\n",
              "        vertical-align: middle;\n",
              "    }\n",
              "\n",
              "    .dataframe tbody tr th {\n",
              "        vertical-align: top;\n",
              "    }\n",
              "\n",
              "    .dataframe thead th {\n",
              "        text-align: right;\n",
              "    }\n",
              "</style>\n",
              "<table border=\"1\" class=\"dataframe\">\n",
              "  <thead>\n",
              "    <tr style=\"text-align: right;\">\n",
              "      <th></th>\n",
              "      <th>Id</th>\n",
              "      <th>u_id</th>\n",
              "      <th>i_id</th>\n",
              "      <th>ts</th>\n",
              "    </tr>\n",
              "  </thead>\n",
              "  <tbody>\n",
              "    <tr>\n",
              "      <th>0</th>\n",
              "      <td>0</td>\n",
              "      <td>2495</td>\n",
              "      <td>1510</td>\n",
              "      <td>1476797791</td>\n",
              "    </tr>\n",
              "    <tr>\n",
              "      <th>1</th>\n",
              "      <td>1</td>\n",
              "      <td>2346</td>\n",
              "      <td>1580</td>\n",
              "      <td>1513534315</td>\n",
              "    </tr>\n",
              "    <tr>\n",
              "      <th>2</th>\n",
              "      <td>2</td>\n",
              "      <td>2424</td>\n",
              "      <td>828</td>\n",
              "      <td>1516148226</td>\n",
              "    </tr>\n",
              "    <tr>\n",
              "      <th>3</th>\n",
              "      <td>3</td>\n",
              "      <td>379</td>\n",
              "      <td>268</td>\n",
              "      <td>1476244372</td>\n",
              "    </tr>\n",
              "    <tr>\n",
              "      <th>4</th>\n",
              "      <td>4</td>\n",
              "      <td>1977</td>\n",
              "      <td>2603</td>\n",
              "      <td>1476142205</td>\n",
              "    </tr>\n",
              "  </tbody>\n",
              "</table>\n",
              "</div>"
            ],
            "text/plain": [
              "   Id  u_id  i_id          ts\n",
              "0   0  2495  1510  1476797791\n",
              "1   1  2346  1580  1513534315\n",
              "2   2  2424   828  1516148226\n",
              "3   3   379   268  1476244372\n",
              "4   4  1977  2603  1476142205"
            ]
          },
          "metadata": {
            "tags": []
          },
          "execution_count": 38
        }
      ]
    },
    {
      "cell_type": "code",
      "metadata": {
        "id": "AywPORKjs5mU",
        "colab_type": "code",
        "colab": {}
      },
      "source": [
        "pred = svd.predict(testing_data)"
      ],
      "execution_count": 0,
      "outputs": []
    },
    {
      "cell_type": "code",
      "metadata": {
        "id": "jFNj75Kzs_7X",
        "colab_type": "code",
        "colab": {}
      },
      "source": [
        "pred_df = pd.DataFrame(pred, columns=['Predicted'])\n",
        "pred_df['Id'] = pred_df.index"
      ],
      "execution_count": 0,
      "outputs": []
    },
    {
      "cell_type": "code",
      "metadata": {
        "id": "9S4jIA3XtBec",
        "colab_type": "code",
        "colab": {
          "base_uri": "https://localhost:8080/",
          "height": 204
        },
        "outputId": "05e7010b-980d-4dbc-9d41-f9077602bee9"
      },
      "source": [
        "pred_df.head()"
      ],
      "execution_count": 48,
      "outputs": [
        {
          "output_type": "execute_result",
          "data": {
            "text/html": [
              "<div>\n",
              "<style scoped>\n",
              "    .dataframe tbody tr th:only-of-type {\n",
              "        vertical-align: middle;\n",
              "    }\n",
              "\n",
              "    .dataframe tbody tr th {\n",
              "        vertical-align: top;\n",
              "    }\n",
              "\n",
              "    .dataframe thead th {\n",
              "        text-align: right;\n",
              "    }\n",
              "</style>\n",
              "<table border=\"1\" class=\"dataframe\">\n",
              "  <thead>\n",
              "    <tr style=\"text-align: right;\">\n",
              "      <th></th>\n",
              "      <th>Predicted</th>\n",
              "      <th>Id</th>\n",
              "    </tr>\n",
              "  </thead>\n",
              "  <tbody>\n",
              "    <tr>\n",
              "      <th>0</th>\n",
              "      <td>3.605452</td>\n",
              "      <td>0</td>\n",
              "    </tr>\n",
              "    <tr>\n",
              "      <th>1</th>\n",
              "      <td>2.911165</td>\n",
              "      <td>1</td>\n",
              "    </tr>\n",
              "    <tr>\n",
              "      <th>2</th>\n",
              "      <td>2.785621</td>\n",
              "      <td>2</td>\n",
              "    </tr>\n",
              "    <tr>\n",
              "      <th>3</th>\n",
              "      <td>4.294967</td>\n",
              "      <td>3</td>\n",
              "    </tr>\n",
              "    <tr>\n",
              "      <th>4</th>\n",
              "      <td>3.767122</td>\n",
              "      <td>4</td>\n",
              "    </tr>\n",
              "  </tbody>\n",
              "</table>\n",
              "</div>"
            ],
            "text/plain": [
              "   Predicted  Id\n",
              "0   3.605452   0\n",
              "1   2.911165   1\n",
              "2   2.785621   2\n",
              "3   4.294967   3\n",
              "4   3.767122   4"
            ]
          },
          "metadata": {
            "tags": []
          },
          "execution_count": 48
        }
      ]
    },
    {
      "cell_type": "code",
      "metadata": {
        "id": "VtFcMQ9ntg3M",
        "colab_type": "code",
        "colab": {}
      },
      "source": [
        "pred_df.to_csv('submission.csv', index=False)"
      ],
      "execution_count": 0,
      "outputs": []
    },
    {
      "cell_type": "code",
      "metadata": {
        "id": "IJ4uXAf_uVwg",
        "colab_type": "code",
        "colab": {}
      },
      "source": [
        "from google.colab import files\n",
        "files.download('submission.csv') "
      ],
      "execution_count": 0,
      "outputs": []
    },
    {
      "cell_type": "code",
      "metadata": {
        "id": "HsnzWzDJukCj",
        "colab_type": "code",
        "colab": {}
      },
      "source": [
        ""
      ],
      "execution_count": 0,
      "outputs": []
    }
  ]
}